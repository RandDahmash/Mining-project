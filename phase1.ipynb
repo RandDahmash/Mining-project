{
  "nbformat": 4,
  "nbformat_minor": 0,
  "metadata": {
    "colab": {
      "provenance": [],
      "include_colab_link": true
    },
    "kernelspec": {
      "name": "python3",
      "display_name": "Python 3"
    },
    "language_info": {
      "name": "python"
    }
  },
  "cells": [
    {
      "cell_type": "markdown",
      "metadata": {
        "id": "view-in-github",
        "colab_type": "text"
      },
      "source": [
        "<a href=\"https://colab.research.google.com/github/RandDahmash/Mining-project/blob/main/phase1.ipynb\" target=\"_parent\"><img src=\"https://colab.research.google.com/assets/colab-badge.svg\" alt=\"Open In Colab\"/></a>"
      ]
    },
    {
      "cell_type": "markdown",
      "source": [
        "#Project Goal:\n",
        "The project's main goal is a classification and clustring task. We will build a machine learning model to predict a student's adaptability level in an online education environment. This will help identify the factors that influence whether a student will have a low, moderate, or high level of adaptability. The ultimate aim is to use these insights to help educational institutions and policymakers improve online learning resources and support systems.\n",
        "\n"
      ],
      "metadata": {
        "id": "vhvvyTivTona"
      }
    },
    {
      "cell_type": "markdown",
      "source": [
        "# Data Source Link :\n",
        "https://www.kaggle.com/datasets/mdmahmudulhasansuzan/students-adaptability-level-in-online-education\n",
        "\n",
        "Data is from Kaggle\n"
      ],
      "metadata": {
        "id": "T75JottAT8tX"
      }
    },
    {
      "cell_type": "markdown",
      "source": [
        "## Dataset Description\n",
        "- Number and data types of attributes (features)  \n",
        "- Number of records (instances)  \n",
        "- Class attribute with its values and counts  \n",
        "- Sample of the dataset"
      ],
      "metadata": {
        "id": "GOJOgncMabTq"
      }
    },
    {
      "cell_type": "markdown",
      "source": [],
      "metadata": {
        "id": "PZpMFD_CUEBP"
      }
    },
    {
      "cell_type": "code",
      "execution_count": null,
      "metadata": {
        "id": "dKOz6F7m-LzO",
        "outputId": "f188a9ac-2023-410b-c0a5-795d5aacc456",
        "colab": {
          "base_uri": "https://localhost:8080/"
        }
      },
      "outputs": [
        {
          "output_type": "stream",
          "name": "stdout",
          "text": [
            "Feature columns in the database:\n",
            "['Gender', 'Age', 'Education Level', 'Institution Type', 'IT Student', 'Location', 'Load-shedding', 'Financial Condition', 'Internet Type', 'Network Type', 'Class Duration', 'Self Lms', 'Device']\n",
            "\n",
            "Data types of features:\n",
            "Gender                 object\n",
            "Age                    object\n",
            "Education Level        object\n",
            "Institution Type       object\n",
            "IT Student             object\n",
            "Location               object\n",
            "Load-shedding          object\n",
            "Financial Condition    object\n",
            "Internet Type          object\n",
            "Network Type           object\n",
            "Class Duration         object\n",
            "Self Lms               object\n",
            "Device                 object\n",
            "dtype: object\n",
            "Number of columns [excluding class]= 13\n",
            "The class attribute is :  Adaptivity Level\n",
            "Number of columns [including class]= 14\n",
            "Number of records: 1205\n",
            "Class attribute is  Adaptivity Level\n",
            "Counts/label:\n",
            "                  count\n",
            "Adaptivity Level       \n",
            "Moderate            625\n",
            "Low                 480\n",
            "High                100\n",
            "Sample of the database\n",
            "  Gender     Age Education Level Institution Type IT Student Location  \\\n",
            "0    Boy   21-25      University   Non Government         No      Yes   \n",
            "1   Girl   21-25      University   Non Government         No      Yes   \n",
            "2   Girl   16-20         College       Government         No      Yes   \n",
            "3   Girl  15-Nov          School   Non Government         No      Yes   \n",
            "4   Girl   16-20          School   Non Government         No      Yes   \n",
            "\n",
            "  Load-shedding Financial Condition Internet Type Network Type Class Duration  \\\n",
            "0           Low                 Mid          Wifi           4G          6-Mar   \n",
            "1          High                 Mid   Mobile Data           4G          3-Jan   \n",
            "2           Low                 Mid          Wifi           4G          3-Jan   \n",
            "3           Low                 Mid   Mobile Data           4G          3-Jan   \n",
            "4           Low                Poor   Mobile Data           3G              0   \n",
            "\n",
            "  Self Lms  Device Adaptivity Level  \n",
            "0       No     Tab         Moderate  \n",
            "1      Yes  Mobile         Moderate  \n",
            "2       No  Mobile         Moderate  \n",
            "3       No  Mobile         Moderate  \n",
            "4       No  Mobile              Low  \n"
          ]
        }
      ],
      "source": [
        "import pandas as pd\n",
        "data=pd.read_csv('Raw_dataset.csv')\n",
        "\n",
        "\n",
        "\n",
        "target=\"Adaptivity Level\"\n",
        "all_columns = list(data.columns)\n",
        "feature_columns = [c for c in all_columns if c !=target]\n",
        "\n",
        "\n",
        "print(\"Feature columns in the database:\")\n",
        "print(feature_columns)\n",
        "print(\"\\nData types of features:\")\n",
        "print(data[feature_columns].dtypes)\n",
        "\n",
        "\n",
        "\n",
        "print(\"Number of columns [excluding class]=\",len(feature_columns))\n",
        "print(\"The class attribute is : \",target)\n",
        "print(\"Number of columns [including class]=\",len(all_columns))\n",
        "\n",
        "\n",
        "\n",
        "\n",
        "numOfRecords = len(data)\n",
        "print(\"Number of records:\", numOfRecords)\n",
        "\n",
        "\n",
        "\n",
        "print(\"Class attribute is \",target)\n",
        "print(\"Counts/label:\")\n",
        "print(data[target].value_counts().to_frame())\n",
        "\n",
        "\n",
        "print(\"Sample of the database\")\n",
        "print(data.head(5))\n",
        "\n"
      ]
    },
    {
      "cell_type": "markdown",
      "source": [],
      "metadata": {
        "id": "UbI2OC9CaYwX"
      }
    },
    {
      "cell_type": "markdown",
      "source": [
        "## Summary\n",
        "The dataset contains 1,205 records and 14 attributes.  \n",
        "The target variable is Adaptivity Level, which has three classes: Low, Moderate, High.  \n",
        "This dataset description provides the foundation for building machine learning models in the next phases."
      ],
      "metadata": {
        "id": "MYMis-7favuX"
      }
    }
  ]
}